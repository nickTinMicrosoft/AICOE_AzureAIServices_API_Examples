{
 "cells": [
  {
   "cell_type": "markdown",
   "metadata": {},
   "source": [
    "## To setup Environmental Parameter for your key\n",
    "\n",
    "1. Open Terminal\n",
    "2. run the following command at the prompt, replacing <YOUR_KEY> with the Cog Services Key\n",
    "    * setx SPEECH_KEY <YOUR_KEY>"
   ]
  },
  {
   "cell_type": "code",
   "execution_count": 18,
   "metadata": {},
   "outputs": [],
   "source": [
    "# pip install azure-cognitiveservices-speech"
   ]
  },
  {
   "cell_type": "code",
   "execution_count": 1,
   "metadata": {},
   "outputs": [],
   "source": [
    "import os\n",
    "import azure.cognitiveservices.speech as speechsdk\n"
   ]
  },
  {
   "cell_type": "code",
   "execution_count": 2,
   "metadata": {},
   "outputs": [],
   "source": [
    "\n",
    "# This example requires environment variables named \"SPEECH_KEY\" and \"SPEECH_REGION\"\n",
    "speech_config = speechsdk.SpeechConfig(subscription=os.environ.get('SPEECH_KEY'), region='eastus')\n",
    "audio_config = speechsdk.audio.AudioOutputConfig(use_default_speaker=True)\n",
    "\n",
    "# The neural multilingual voice can speak different languages based on the input text.\n",
    "speech_config.speech_synthesis_voice_name='en-US-AvaMultilingualNeural'\n",
    "\n",
    "speech_synthesizer = speechsdk.SpeechSynthesizer(speech_config=speech_config, audio_config=audio_config)\n",
    "\n"
   ]
  },
  {
   "cell_type": "code",
   "execution_count": 3,
   "metadata": {},
   "outputs": [],
   "source": [
    "def speak(myText):\n",
    "    \n",
    "    speech_synthesis_result = speech_synthesizer.speak_text_async(myText).get()\n",
    "    if speech_synthesis_result.reason == speechsdk.ResultReason.SynthesizingAudioCompleted:\n",
    "        print(\"Speech synthesized for text [{}]\".format(myText))\n",
    "    elif speech_synthesis_result.reason == speechsdk.ResultReason.Canceled:\n",
    "        cancellation_details = speech_synthesis_result.cancellation_details\n",
    "        print(\"Speech synthesis canceled: {}\".format(cancellation_details.reason))\n",
    "        if cancellation_details.reason == speechsdk.CancellationReason.Error:\n",
    "            if cancellation_details.error_details:\n",
    "                print(\"Error details: {}\".format(cancellation_details.error_details))\n",
    "                print(\"Did you set the speech resource key and region values?\")"
   ]
  },
  {
   "cell_type": "code",
   "execution_count": 10,
   "metadata": {},
   "outputs": [
    {
     "name": "stdout",
     "output_type": "stream",
     "text": [
      "Speech synthesized for text [The Crossroads of America]\n"
     ]
    }
   ],
   "source": [
    "text =\"The Crossroads of America\"\n",
    "speak(text)"
   ]
  },
  {
   "cell_type": "code",
   "execution_count": 29,
   "metadata": {},
   "outputs": [],
   "source": [
    "# The neural multilingual voice can speak different languages based on the input text.\n",
    "#en-GB-SoniaNeural\n",
    "#en-IE-EmilyNeural\n",
    "# en-AU-WilliamNeural\n",
    "\n",
    "voices = [\"en-US-GuyNeural\",\"en-IE-ConnorNeural\", \"en-GB-SoniaNeural\", \"en-IE-EmilyNeural\", \"en-AU-WilliamNeural\", \"en-US-AvaNeural\"]\n",
    "\n",
    "\n",
    "speech_config.speech_synthesis_voice_name=voices[0]\n",
    "\n",
    "\n",
    "speech_synthesizer = speechsdk.SpeechSynthesizer(speech_config=speech_config, audio_config=audio_config)"
   ]
  },
  {
   "cell_type": "code",
   "execution_count": 31,
   "metadata": {},
   "outputs": [
    {
     "name": "stdout",
     "output_type": "stream",
     "text": [
      "Speech synthesized for text [The Crossroads of America, mate]\n"
     ]
    }
   ],
   "source": [
    "speak(text)"
   ]
  },
  {
   "cell_type": "code",
   "execution_count": 20,
   "metadata": {},
   "outputs": [
    {
     "name": "stdout",
     "output_type": "stream",
     "text": [
      "Enter some text that you want to speak >\n",
      "Speech synthesized for text [whatever i want to say]\n"
     ]
    }
   ],
   "source": [
    "# Get text from the console and synthesize to the default speaker.\n",
    "print(\"Enter some text that you want to speak >\")\n",
    "text = input()\n",
    "\n",
    "speech_synthesis_result = speech_synthesizer.speak_text_async(text).get()\n",
    "\n",
    "if speech_synthesis_result.reason == speechsdk.ResultReason.SynthesizingAudioCompleted:\n",
    "    print(\"Speech synthesized for text [{}]\".format(text))\n",
    "elif speech_synthesis_result.reason == speechsdk.ResultReason.Canceled:\n",
    "    cancellation_details = speech_synthesis_result.cancellation_details\n",
    "    print(\"Speech synthesis canceled: {}\".format(cancellation_details.reason))\n",
    "    if cancellation_details.reason == speechsdk.CancellationReason.Error:\n",
    "        if cancellation_details.error_details:\n",
    "            print(\"Error details: {}\".format(cancellation_details.error_details))\n",
    "            print(\"Did you set the speech resource key and region values?\")\n",
    "\n"
   ]
  },
  {
   "cell_type": "code",
   "execution_count": 21,
   "metadata": {},
   "outputs": [],
   "source": [
    "##web crawl stuff\n",
    "from bs4 import BeautifulSoup\n",
    "import pandas as pd\n",
    "import requests"
   ]
  },
  {
   "cell_type": "code",
   "execution_count": 22,
   "metadata": {},
   "outputs": [
    {
     "name": "stdout",
     "output_type": "stream",
     "text": [
      "[<p>An official website of the State of North Dakota</p>, <p id=\"language_placeholder\">Language: English</p>, <p>The State of North Dakota provides automatic translation for nd.gov websites, courtesy of Google Translate. Please remember, though, that the English language version is considered the most accurate. In the event of a disagreement or discrepancy between the translation and the original English version of this web site or any notice or disclaimer, the original version will prevail.</p>, <p>608 East Boulevard Avenue<br/>Bismarck, ND 58505-0700<br/>Ph: 701-328-2500<br/>Ph: 1-855-NDROADS (637-6237)<br/>TTY Number: 711 or 1-800-366-6888</p>, <p>Free travel information service is available 24 hours a day by <a href=\"https://travel.dot.nd.gov/\">visiting the travel map</a> or <a data-entity-substitution=\"canonical\" data-entity-type=\"node\" data-entity-uuid=\"232a7860-826a-4e49-a19a-82873435d3b1\" href=\"/nddot-mobile-apps\" title=\"NDDOT Mobile Apps\">downloading the ND Roads app</a>. </p>, <p>View the <a data-entity-substitution=\"canonical\" data-entity-type=\"node\" data-entity-uuid=\"24e596a7-4c27-4119-8277-5304ce922410\" href=\"/about-nddot/nddot-districts\" title=\"NDDOT Districts\">NDDOT Districts</a> webpage for more information. </p>, <p>Copyright <script>document.write(/\\d{4}/.exec(Date())[0])</script> | <a href=\"/\">North Dakota Department of Transportation</a> <br/>608 East Boulevard Avenue | Bismarck, ND 58505-0700 | 701-328-2500</p>]\n"
     ]
    }
   ],
   "source": [
    "url = 'https://www.dot.nd.gov/contact-us'\n",
    "\n",
    "# html = urllib.request.urlopen(url).read()\n",
    "\n",
    "headers = {\"user-agent\": \"Mozilla/5.0 (Windows NT 10.0; Win64; x64) AppleWebKit/537.36 (KHTML, like Gecko) Chrome/88.0.4324.182 Safari/537.36\"}\n",
    "webpage = requests.get(url,headers=headers)\n",
    "\n",
    "soup = BeautifulSoup(webpage.content, 'html.parser')\n",
    "text = soup.find_all('p')\n",
    "\n",
    "# text = text[0].text\n",
    "print(text)"
   ]
  },
  {
   "cell_type": "code",
   "execution_count": 23,
   "metadata": {},
   "outputs": [
    {
     "name": "stdout",
     "output_type": "stream",
     "text": [
      "An official website of the State of North Dakota\n",
      "Language: English\n",
      "The State of North Dakota provides automatic translation for nd.gov websites, courtesy of Google Translate. Please remember, though, that the English language version is considered the most accurate. In the event of a disagreement or discrepancy between the translation and the original English version of this web site or any notice or disclaimer, the original version will prevail.\n",
      "608 East Boulevard AvenueBismarck, ND 58505-0700Ph: 701-328-2500Ph: 1-855-NDROADS (637-6237)TTY Number: 711 or 1-800-366-6888\n",
      "Free travel information service is available 24 hours a day by visiting the travel map or downloading the ND Roads app. \n",
      "View the NDDOT Districts webpage for more information. \n",
      "Copyright  | North Dakota Department of Transportation 608 East Boulevard Avenue | Bismarck, ND 58505-0700 | 701-328-2500\n"
     ]
    }
   ],
   "source": [
    "for i in text:\n",
    "    print(i.text)"
   ]
  },
  {
   "cell_type": "code",
   "execution_count": 24,
   "metadata": {},
   "outputs": [
    {
     "name": "stdout",
     "output_type": "stream",
     "text": [
      "Speech synthesized for text [Free travel information service is available 24 hours a day by visiting the travel map or downloading the ND Roads app. ]\n"
     ]
    }
   ],
   "source": [
    "mytext = text[4].text\n",
    "speak(mytext)\n",
    "\n"
   ]
  }
 ],
 "metadata": {
  "kernelspec": {
   "display_name": "Python 3",
   "language": "python",
   "name": "python3"
  },
  "language_info": {
   "codemirror_mode": {
    "name": "ipython",
    "version": 3
   },
   "file_extension": ".py",
   "mimetype": "text/x-python",
   "name": "python",
   "nbconvert_exporter": "python",
   "pygments_lexer": "ipython3",
   "version": "3.11.9"
  }
 },
 "nbformat": 4,
 "nbformat_minor": 2
}
